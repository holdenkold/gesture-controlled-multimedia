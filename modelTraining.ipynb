{
  "nbformat": 4,
  "nbformat_minor": 0,
  "metadata": {
    "language_info": {
      "codemirror_mode": {
        "name": "ipython",
        "version": 3
      },
      "file_extension": ".py",
      "mimetype": "text/x-python",
      "name": "python",
      "nbconvert_exporter": "python",
      "pygments_lexer": "ipython3",
      "version": "3.6.9-final"
    },
    "orig_nbformat": 2,
    "kernelspec": {
      "name": "python36964bitf0b52da5d29441f7966b16d4ec44a625",
      "display_name": "Python 3.6.9 64-bit"
    },
    "colab": {
      "name": "modelTraining.ipynb",
      "provenance": [],
      "collapsed_sections": []
    }
  },
  "cells": [
    {
      "cell_type": "code",
      "metadata": {
        "id": "TOm9mx5liD5Z",
        "colab_type": "code",
        "colab": {}
      },
      "source": [
        "import os\n",
        "import numpy\n",
        "import matplotlib.pyplot as pyplot\n",
        "from itertools import groupby \n",
        "import random\n",
        "import shutil\n",
        "%matplotlib inline"
      ],
      "execution_count": 0,
      "outputs": []
    },
    {
      "cell_type": "code",
      "metadata": {
        "id": "sB7zmsz4iD5d",
        "colab_type": "code",
        "colab": {
          "base_uri": "https://localhost:8080/",
          "height": 88
        },
        "outputId": "78d75005-64e5-410a-ba99-a05433278275"
      },
      "source": [
        "import seaborn as sns\n",
        "import keras\n",
        "from keras.models import Sequential\n",
        "from keras.layers import Dense, Conv2D , MaxPool2D , Flatten , Dropout\n",
        "from keras.preprocessing.image import ImageDataGenerator\n",
        "from sklearn.model_selection import train_test_split\n",
        "from sklearn.metrics import classification_report,confusion_matrix"
      ],
      "execution_count": 2,
      "outputs": [
        {
          "output_type": "stream",
          "text": [
            "/usr/local/lib/python3.6/dist-packages/statsmodels/tools/_testing.py:19: FutureWarning: pandas.util.testing is deprecated. Use the functions in the public API at pandas.testing instead.\n",
            "  import pandas.util.testing as tm\n",
            "Using TensorFlow backend.\n"
          ],
          "name": "stderr"
        }
      ]
    },
    {
      "cell_type": "code",
      "metadata": {
        "id": "uXnb7hyMiS6D",
        "colab_type": "code",
        "colab": {
          "base_uri": "https://localhost:8080/",
          "height": 204
        },
        "outputId": "de0f6144-2c90-44ae-e82e-dc15a6ce84bf"
      },
      "source": [
        "!wget pages.mini.pw.edu.pl/~gorzynskik/obrazki/dataset-v3.zip"
      ],
      "execution_count": 3,
      "outputs": [
        {
          "output_type": "stream",
          "text": [
            "--2020-05-12 20:18:07--  http://pages.mini.pw.edu.pl/~gorzynskik/obrazki/dataset-v3.zip\n",
            "Resolving pages.mini.pw.edu.pl (pages.mini.pw.edu.pl)... 194.29.178.29\n",
            "Connecting to pages.mini.pw.edu.pl (pages.mini.pw.edu.pl)|194.29.178.29|:80... connected.\n",
            "HTTP request sent, awaiting response... 200 OK\n",
            "Length: 1030046 (1006K) [application/zip]\n",
            "Saving to: ‘dataset-v3.zip’\n",
            "\n",
            "dataset-v3.zip      100%[===================>]   1006K  1.40MB/s    in 0.7s    \n",
            "\n",
            "2020-05-12 20:18:08 (1.40 MB/s) - ‘dataset-v3.zip’ saved [1030046/1030046]\n",
            "\n"
          ],
          "name": "stdout"
        }
      ]
    },
    {
      "cell_type": "code",
      "metadata": {
        "id": "7kHtfSlCirEM",
        "colab_type": "code",
        "colab": {}
      },
      "source": [
        "shutil.unpack_archive('dataset-v3.zip')"
      ],
      "execution_count": 0,
      "outputs": []
    },
    {
      "cell_type": "code",
      "metadata": {
        "id": "RxqZlLbmm5mB",
        "colab_type": "code",
        "colab": {}
      },
      "source": [
        "!rm -r data"
      ],
      "execution_count": 0,
      "outputs": []
    },
    {
      "cell_type": "code",
      "metadata": {
        "id": "VN_zP8E3iD5h",
        "colab_type": "code",
        "colab": {}
      },
      "source": [
        "def structureData(source_data, train_perc):\n",
        "    images = []\n",
        "\n",
        "    for (dirpath, dirnames, filenames) in os.walk(source_data):\n",
        "        images.extend(filenames)\n",
        "\n",
        "    images = [n for n in images if n.endswith('.png')]\n",
        "\n",
        "    data_path = './data'\n",
        "    if not os.path.exists(data_path):\n",
        "        os.makedirs(data_path)\n",
        "\n",
        "    util_func = lambda x: x[0] \n",
        "    temp = sorted(images, key = util_func) \n",
        "    res = [list(ele) for i, ele in groupby(temp, util_func)]\n",
        "\n",
        "    train_path = os.path.join(data_path, 'train')\n",
        "    os.makedirs(train_path)\n",
        "    test_path = os.path.join(data_path, 'test')\n",
        "    os.makedirs(test_path)\n",
        "\n",
        "    for i in range(len(res)):\n",
        "        perc = 0.7\n",
        "        z_0 = res[i]\n",
        "        train_len = int(len(z_0) * 0.7)\n",
        "        random.shuffle(z_0)\n",
        "        train_p = z_0[:train_len]\n",
        "        test_p = z_0[train_len:]\n",
        "        tr_path = os.path.join(train_path, str(i))\n",
        "        os.makedirs(tr_path)\n",
        "        te_path = os.path.join(test_path, str(i))\n",
        "        os.makedirs(te_path)\n",
        "        for name in train_p:\n",
        "            shutil.copy(os.path.join(source_data, name), tr_path)\n",
        "        for name in test_p:\n",
        "            shutil.copy(os.path.join(source_data, name), te_path)"
      ],
      "execution_count": 0,
      "outputs": []
    },
    {
      "cell_type": "code",
      "metadata": {
        "id": "kONSA5y6iD5l",
        "colab_type": "code",
        "colab": {}
      },
      "source": [
        "structureData('./dataset', 0.7)"
      ],
      "execution_count": 0,
      "outputs": []
    },
    {
      "cell_type": "code",
      "metadata": {
        "id": "usDn9UCxiD5p",
        "colab_type": "code",
        "colab": {}
      },
      "source": [
        "datagen = ImageDataGenerator(\n",
        "        rescale=1./255,\n",
        "        zoom_range=0.2,\n",
        "        rotation_range=10,\n",
        "        horizontal_flip=True,\n",
        "        vertical_flip=False)\n"
      ],
      "execution_count": 0,
      "outputs": []
    },
    {
      "cell_type": "code",
      "metadata": {
        "id": "J6_aoF_SiD5s",
        "colab_type": "code",
        "colab": {}
      },
      "source": [
        "img_shape = (28, 28)"
      ],
      "execution_count": 0,
      "outputs": []
    },
    {
      "cell_type": "code",
      "metadata": {
        "id": "-NqpT0bdiD5v",
        "colab_type": "code",
        "colab": {
          "base_uri": "https://localhost:8080/",
          "height": 34
        },
        "outputId": "81dc09a6-914a-4a3a-e558-31893e752bc3"
      },
      "source": [
        "train_generator = datagen.flow_from_directory(\n",
        "    'data/train',\n",
        "    target_size=img_shape,\n",
        "    color_mode = 'grayscale',\n",
        "    batch_size=32,\n",
        "    class_mode='categorical')"
      ],
      "execution_count": 13,
      "outputs": [
        {
          "output_type": "stream",
          "text": [
            "Found 472 images belonging to 7 classes.\n"
          ],
          "name": "stdout"
        }
      ]
    },
    {
      "cell_type": "code",
      "metadata": {
        "id": "tiWdTQW0iD5z",
        "colab_type": "code",
        "colab": {
          "base_uri": "https://localhost:8080/",
          "height": 34
        },
        "outputId": "d47107f6-d087-4e10-959a-6cc8f10d61d6"
      },
      "source": [
        "test_generator = datagen.flow_from_directory(\n",
        "    'data/test',\n",
        "    target_size= img_shape,\n",
        "    color_mode = 'grayscale',\n",
        "    batch_size=32,\n",
        "    class_mode='categorical')"
      ],
      "execution_count": 14,
      "outputs": [
        {
          "output_type": "stream",
          "text": [
            "Found 206 images belonging to 7 classes.\n"
          ],
          "name": "stdout"
        }
      ]
    },
    {
      "cell_type": "code",
      "metadata": {
        "id": "8Imtnh2wiD52",
        "colab_type": "code",
        "colab": {}
      },
      "source": [
        "input_shape = (img_shape[0], img_shape[1], 1)"
      ],
      "execution_count": 0,
      "outputs": []
    },
    {
      "cell_type": "code",
      "metadata": {
        "id": "Q7SLhkbxiD55",
        "colab_type": "code",
        "colab": {
          "base_uri": "https://localhost:8080/",
          "height": 493
        },
        "outputId": "5f2f114e-82d4-482c-e7bf-496eced2553e"
      },
      "source": [
        "model = Sequential()\n",
        "model.add(Conv2D(75 , (3,3) , strides = 1 , padding = 'same' , activation = 'relu' , input_shape = input_shape))\n",
        "model.add(MaxPool2D((2,2) , strides = 2 , padding = 'same'))\n",
        "model.add(Conv2D(50 , (3,3) , strides = 1 , padding = 'same' , activation = 'relu'))\n",
        "model.add(MaxPool2D((2,2) , strides = 2 , padding = 'same'))\n",
        "model.add(Conv2D(25 , (3,3) , strides = 1 , padding = 'same' , activation = 'relu'))\n",
        "model.add(MaxPool2D((2,2) , strides = 2 , padding = 'same'))\n",
        "model.add(Flatten())\n",
        "model.add(Dense(units = 512 , activation = 'relu'))\n",
        "model.add(Dropout(0.2))\n",
        "model.add(Dense(units = 7 , activation = 'softmax'))\n",
        "model.compile(optimizer = 'adam' , loss = 'categorical_crossentropy' , metrics = ['accuracy'])\n",
        "model.summary()"
      ],
      "execution_count": 16,
      "outputs": [
        {
          "output_type": "stream",
          "text": [
            "Model: \"sequential_1\"\n",
            "_________________________________________________________________\n",
            "Layer (type)                 Output Shape              Param #   \n",
            "=================================================================\n",
            "conv2d_1 (Conv2D)            (None, 28, 28, 75)        750       \n",
            "_________________________________________________________________\n",
            "max_pooling2d_1 (MaxPooling2 (None, 14, 14, 75)        0         \n",
            "_________________________________________________________________\n",
            "conv2d_2 (Conv2D)            (None, 14, 14, 50)        33800     \n",
            "_________________________________________________________________\n",
            "max_pooling2d_2 (MaxPooling2 (None, 7, 7, 50)          0         \n",
            "_________________________________________________________________\n",
            "conv2d_3 (Conv2D)            (None, 7, 7, 25)          11275     \n",
            "_________________________________________________________________\n",
            "max_pooling2d_3 (MaxPooling2 (None, 4, 4, 25)          0         \n",
            "_________________________________________________________________\n",
            "flatten_1 (Flatten)          (None, 400)               0         \n",
            "_________________________________________________________________\n",
            "dense_1 (Dense)              (None, 512)               205312    \n",
            "_________________________________________________________________\n",
            "dropout_1 (Dropout)          (None, 512)               0         \n",
            "_________________________________________________________________\n",
            "dense_2 (Dense)              (None, 7)                 3591      \n",
            "=================================================================\n",
            "Total params: 254,728\n",
            "Trainable params: 254,728\n",
            "Non-trainable params: 0\n",
            "_________________________________________________________________\n"
          ],
          "name": "stdout"
        }
      ]
    },
    {
      "cell_type": "code",
      "metadata": {
        "id": "3RRJ1HOwiD58",
        "colab_type": "code",
        "colab": {
          "base_uri": "https://localhost:8080/",
          "height": 714
        },
        "outputId": "1e1fb845-7356-4fe6-e50b-440686f7a22e"
      },
      "source": [
        "model.fit_generator(\n",
        "    train_generator,\n",
        "    steps_per_epoch=32,\n",
        "    epochs=20,\n",
        "    validation_data=test_generator)"
      ],
      "execution_count": 17,
      "outputs": [
        {
          "output_type": "stream",
          "text": [
            "Epoch 1/20\n",
            "32/32 [==============================] - 4s 132ms/step - loss: 1.6730 - accuracy: 0.3135 - val_loss: 1.2964 - val_accuracy: 0.5146\n",
            "Epoch 2/20\n",
            "32/32 [==============================] - 4s 112ms/step - loss: 1.1332 - accuracy: 0.5774 - val_loss: 0.6864 - val_accuracy: 0.6748\n",
            "Epoch 3/20\n",
            "32/32 [==============================] - 4s 110ms/step - loss: 0.7928 - accuracy: 0.7282 - val_loss: 0.5761 - val_accuracy: 0.7427\n",
            "Epoch 4/20\n",
            "32/32 [==============================] - 3s 109ms/step - loss: 0.5587 - accuracy: 0.8230 - val_loss: 0.5969 - val_accuracy: 0.8301\n",
            "Epoch 5/20\n",
            "32/32 [==============================] - 3s 109ms/step - loss: 0.4146 - accuracy: 0.8562 - val_loss: 0.4305 - val_accuracy: 0.8495\n",
            "Epoch 6/20\n",
            "32/32 [==============================] - 4s 110ms/step - loss: 0.3649 - accuracy: 0.8601 - val_loss: 0.4942 - val_accuracy: 0.8495\n",
            "Epoch 7/20\n",
            "32/32 [==============================] - 3s 109ms/step - loss: 0.3186 - accuracy: 0.8879 - val_loss: 0.1915 - val_accuracy: 0.9029\n",
            "Epoch 8/20\n",
            "32/32 [==============================] - 4s 113ms/step - loss: 0.2622 - accuracy: 0.9147 - val_loss: 0.1293 - val_accuracy: 0.8932\n",
            "Epoch 9/20\n",
            "32/32 [==============================] - 4s 113ms/step - loss: 0.2179 - accuracy: 0.9306 - val_loss: 0.2796 - val_accuracy: 0.8932\n",
            "Epoch 10/20\n",
            "32/32 [==============================] - 4s 111ms/step - loss: 0.2194 - accuracy: 0.9276 - val_loss: 0.3552 - val_accuracy: 0.9078\n",
            "Epoch 11/20\n",
            "32/32 [==============================] - 3s 109ms/step - loss: 0.2411 - accuracy: 0.9220 - val_loss: 0.4696 - val_accuracy: 0.9320\n",
            "Epoch 12/20\n",
            "32/32 [==============================] - 4s 110ms/step - loss: 0.1487 - accuracy: 0.9504 - val_loss: 1.2693 - val_accuracy: 0.9126\n",
            "Epoch 13/20\n",
            "32/32 [==============================] - 4s 110ms/step - loss: 0.1488 - accuracy: 0.9498 - val_loss: 0.1420 - val_accuracy: 0.9272\n",
            "Epoch 14/20\n",
            "32/32 [==============================] - 3s 108ms/step - loss: 0.1444 - accuracy: 0.9480 - val_loss: 0.0657 - val_accuracy: 0.9175\n",
            "Epoch 15/20\n",
            "32/32 [==============================] - 4s 112ms/step - loss: 0.1200 - accuracy: 0.9633 - val_loss: 0.1943 - val_accuracy: 0.9175\n",
            "Epoch 16/20\n",
            "32/32 [==============================] - 4s 113ms/step - loss: 0.0887 - accuracy: 0.9772 - val_loss: 0.6065 - val_accuracy: 0.9466\n",
            "Epoch 17/20\n",
            "32/32 [==============================] - 4s 112ms/step - loss: 0.1340 - accuracy: 0.9544 - val_loss: 0.3679 - val_accuracy: 0.9029\n",
            "Epoch 18/20\n",
            "32/32 [==============================] - 3s 109ms/step - loss: 0.0895 - accuracy: 0.9700 - val_loss: 0.4542 - val_accuracy: 0.9417\n",
            "Epoch 19/20\n",
            "32/32 [==============================] - 3s 109ms/step - loss: 0.0709 - accuracy: 0.9762 - val_loss: 0.0311 - val_accuracy: 0.9515\n",
            "Epoch 20/20\n",
            "32/32 [==============================] - 4s 110ms/step - loss: 0.0598 - accuracy: 0.9841 - val_loss: 0.0474 - val_accuracy: 0.9320\n"
          ],
          "name": "stdout"
        },
        {
          "output_type": "execute_result",
          "data": {
            "text/plain": [
              "<keras.callbacks.callbacks.History at 0x7f9665f6bba8>"
            ]
          },
          "metadata": {
            "tags": []
          },
          "execution_count": 17
        }
      ]
    },
    {
      "cell_type": "code",
      "metadata": {
        "id": "Qk-Wz3ImiD5_",
        "colab_type": "code",
        "colab": {}
      },
      "source": [
        "model.save(\"model_v1.h5\")"
      ],
      "execution_count": 0,
      "outputs": []
    }
  ]
}