{
  "cells": [
    {
      "cell_type": "code",
      "metadata": {
        "id": "TOm9mx5liD5Z",
        "colab_type": "code",
        "colab": {}
      },
      "source": [
        "import os\n",
        "import numpy\n",
        "import matplotlib.pyplot as pyplot\n",
        "from itertools import groupby \n",
        "import random\n",
        "import shutil\n",
        "%matplotlib inline"
      ],
      "execution_count": 1,
      "outputs": []
    },
    {
      "cell_type": "code",
      "metadata": {
        "id": "sB7zmsz4iD5d",
        "colab_type": "code",
        "colab": {
          "base_uri": "https://localhost:8080/",
          "height": 88
        },
        "outputId": "78d75005-64e5-410a-ba99-a05433278275"
      },
      "source": [
        "import seaborn as sns\n",
        "import keras\n",
        "from keras.models import Sequential\n",
        "from keras.layers import Dense, Conv2D , MaxPool2D , Flatten , Dropout\n",
        "from keras.preprocessing.image import ImageDataGenerator\n",
        "from sklearn.model_selection import train_test_split\n",
        "from sklearn.metrics import classification_report,confusion_matrix"
      ],
      "execution_count": 2,
      "outputs": [
        {
          "output_type": "stream",
          "name": "stderr",
          "text": "Using TensorFlow backend.\n"
        }
      ]
    },
    {
      "cell_type": "code",
      "metadata": {
        "id": "uXnb7hyMiS6D",
        "colab_type": "code",
        "colab": {
          "base_uri": "https://localhost:8080/",
          "height": 204
        },
        "outputId": "de0f6144-2c90-44ae-e82e-dc15a6ce84bf"
      },
      "source": [
        "!wget pages.mini.pw.edu.pl/~gorzynskik/obrazki/dataset-v3.zip"
      ],
      "execution_count": 3,
      "outputs": [
        {
          "output_type": "stream",
          "name": "stdout",
          "text": "/bin/sh: wget: command not found\n"
        }
      ]
    },
    {
      "cell_type": "code",
      "metadata": {
        "id": "7kHtfSlCirEM",
        "colab_type": "code",
        "colab": {}
      },
      "source": [
        "shutil.unpack_archive('dataset-v3.zip')"
      ],
      "execution_count": 4,
      "outputs": []
    },
    {
      "cell_type": "code",
      "metadata": {
        "id": "RxqZlLbmm5mB",
        "colab_type": "code",
        "colab": {}
      },
      "source": [
        "!rm -r data"
      ],
      "execution_count": 5,
      "outputs": []
    },
    {
      "cell_type": "code",
      "metadata": {
        "id": "VN_zP8E3iD5h",
        "colab_type": "code",
        "colab": {}
      },
      "source": [
        "def structureData(source_data, train_perc):\n",
        "    images = []\n",
        "\n",
        "    for (dirpath, dirnames, filenames) in os.walk(source_data):\n",
        "        images.extend(filenames)\n",
        "\n",
        "    images = [n for n in images if n.endswith('.png')]\n",
        "\n",
        "    data_path = './data'\n",
        "    if not os.path.exists(data_path):\n",
        "        os.makedirs(data_path)\n",
        "\n",
        "    util_func = lambda x: x[0] \n",
        "    temp = sorted(images, key = util_func) \n",
        "    res = [list(ele) for i, ele in groupby(temp, util_func)]\n",
        "\n",
        "    train_path = os.path.join(data_path, 'train')\n",
        "    os.makedirs(train_path)\n",
        "    test_path = os.path.join(data_path, 'test')\n",
        "    os.makedirs(test_path)\n",
        "\n",
        "    for i in range(len(res)):\n",
        "        perc = 0.7\n",
        "        z_0 = res[i]\n",
        "        train_len = int(len(z_0) * 0.7)\n",
        "        random.shuffle(z_0)\n",
        "        train_p = z_0[:train_len]\n",
        "        test_p = z_0[train_len:]\n",
        "        tr_path = os.path.join(train_path, str(i))\n",
        "        os.makedirs(tr_path)\n",
        "        te_path = os.path.join(test_path, str(i))\n",
        "        os.makedirs(te_path)\n",
        "        for name in train_p:\n",
        "            shutil.copy(os.path.join(source_data, name), tr_path)\n",
        "        for name in test_p:\n",
        "            shutil.copy(os.path.join(source_data, name), te_path)"
      ],
      "execution_count": 6,
      "outputs": []
    },
    {
      "cell_type": "code",
      "metadata": {
        "id": "kONSA5y6iD5l",
        "colab_type": "code",
        "colab": {}
      },
      "source": [
        "structureData('./dataset', 0.7)"
      ],
      "execution_count": 7,
      "outputs": []
    },
    {
      "cell_type": "code",
      "metadata": {
        "id": "usDn9UCxiD5p",
        "colab_type": "code",
        "colab": {}
      },
      "source": [
        "datagen = ImageDataGenerator(\n",
        "        rescale=1./255,\n",
        "        zoom_range=0.2,\n",
        "        rotation_range=10,\n",
        "        horizontal_flip=True,\n",
        "        vertical_flip=False)\n"
      ],
      "execution_count": 8,
      "outputs": []
    },
    {
      "cell_type": "code",
      "metadata": {
        "id": "J6_aoF_SiD5s",
        "colab_type": "code",
        "colab": {}
      },
      "source": [
        "img_shape = (28, 28)"
      ],
      "execution_count": 9,
      "outputs": []
    },
    {
      "cell_type": "code",
      "metadata": {
        "id": "-NqpT0bdiD5v",
        "colab_type": "code",
        "colab": {
          "base_uri": "https://localhost:8080/",
          "height": 34
        },
        "outputId": "81dc09a6-914a-4a3a-e558-31893e752bc3"
      },
      "source": [
        "train_generator = datagen.flow_from_directory(\n",
        "    'data/train',\n",
        "    target_size=img_shape,\n",
        "    color_mode = 'grayscale',\n",
        "    batch_size=32,\n",
        "    class_mode='categorical')"
      ],
      "execution_count": 10,
      "outputs": [
        {
          "output_type": "stream",
          "name": "stdout",
          "text": "Found 472 images belonging to 7 classes.\n"
        }
      ]
    },
    {
      "cell_type": "code",
      "metadata": {
        "id": "tiWdTQW0iD5z",
        "colab_type": "code",
        "colab": {
          "base_uri": "https://localhost:8080/",
          "height": 34
        },
        "outputId": "d47107f6-d087-4e10-959a-6cc8f10d61d6"
      },
      "source": [
        "test_generator = datagen.flow_from_directory(\n",
        "    'data/test',\n",
        "    target_size= img_shape,\n",
        "    color_mode = 'grayscale',\n",
        "    batch_size=32,\n",
        "    class_mode='categorical')"
      ],
      "execution_count": 11,
      "outputs": [
        {
          "output_type": "stream",
          "name": "stdout",
          "text": "Found 206 images belonging to 7 classes.\n"
        }
      ]
    },
    {
      "cell_type": "code",
      "metadata": {
        "id": "8Imtnh2wiD52",
        "colab_type": "code",
        "colab": {}
      },
      "source": [
        "input_shape = (img_shape[0], img_shape[1], 1)"
      ],
      "execution_count": 12,
      "outputs": []
    },
    {
      "cell_type": "code",
      "metadata": {
        "id": "Q7SLhkbxiD55",
        "colab_type": "code",
        "colab": {
          "base_uri": "https://localhost:8080/",
          "height": 493
        },
        "outputId": "5f2f114e-82d4-482c-e7bf-496eced2553e"
      },
      "source": [
        "model = Sequential()\n",
        "model.add(Conv2D(75 , (3,3) , strides = 1 , padding = 'same' , activation = 'relu' , input_shape = input_shape))\n",
        "model.add(MaxPool2D((2,2) , strides = 2 , padding = 'same'))\n",
        "model.add(Conv2D(50 , (3,3) , strides = 1 , padding = 'same' , activation = 'relu'))\n",
        "model.add(MaxPool2D((2,2) , strides = 2 , padding = 'same'))\n",
        "model.add(Conv2D(25 , (3,3) , strides = 1 , padding = 'same' , activation = 'relu'))\n",
        "model.add(MaxPool2D((2,2) , strides = 2 , padding = 'same'))\n",
        "model.add(Flatten())\n",
        "model.add(Dense(units = 512 , activation = 'relu'))\n",
        "model.add(Dropout(0.2))\n",
        "model.add(Dense(units = 7 , activation = 'softmax'))\n",
        "model.compile(optimizer = 'adam' , loss = 'categorical_crossentropy' , metrics = ['accuracy'])\n",
        "model.summary()"
      ],
      "execution_count": 13,
      "outputs": [
        {
          "output_type": "stream",
          "name": "stdout",
          "text": "Model: \"sequential_1\"\n_________________________________________________________________\nLayer (type)                 Output Shape              Param #   \n=================================================================\nconv2d_1 (Conv2D)            (None, 28, 28, 75)        750       \n_________________________________________________________________\nmax_pooling2d_1 (MaxPooling2 (None, 14, 14, 75)        0         \n_________________________________________________________________\nconv2d_2 (Conv2D)            (None, 14, 14, 50)        33800     \n_________________________________________________________________\nmax_pooling2d_2 (MaxPooling2 (None, 7, 7, 50)          0         \n_________________________________________________________________\nconv2d_3 (Conv2D)            (None, 7, 7, 25)          11275     \n_________________________________________________________________\nmax_pooling2d_3 (MaxPooling2 (None, 4, 4, 25)          0         \n_________________________________________________________________\nflatten_1 (Flatten)          (None, 400)               0         \n_________________________________________________________________\ndense_1 (Dense)              (None, 512)               205312    \n_________________________________________________________________\ndropout_1 (Dropout)          (None, 512)               0         \n_________________________________________________________________\ndense_2 (Dense)              (None, 7)                 3591      \n=================================================================\nTotal params: 254,728\nTrainable params: 254,728\nNon-trainable params: 0\n_________________________________________________________________\n"
        }
      ]
    },
    {
      "cell_type": "code",
      "metadata": {
        "id": "3RRJ1HOwiD58",
        "colab_type": "code",
        "colab": {
          "base_uri": "https://localhost:8080/",
          "height": 714
        },
        "outputId": "1e1fb845-7356-4fe6-e50b-440686f7a22e"
      },
      "source": [
        "model.fit_generator(\n",
        "    train_generator,\n",
        "    steps_per_epoch=32,\n",
        "    epochs=20,\n",
        "    validation_data=test_generator)"
      ],
      "execution_count": 14,
      "outputs": [
        {
          "output_type": "stream",
          "name": "stdout",
          "text": "Epoch 1/20\n32/32 [==============================] - 3s 93ms/step - loss: 1.6794 - accuracy: 0.3105 - val_loss: 1.9776 - val_accuracy: 0.3883\nEpoch 2/20\n32/32 [==============================] - 3s 85ms/step - loss: 1.1954 - accuracy: 0.5565 - val_loss: 0.9796 - val_accuracy: 0.7039\nEpoch 3/20\n32/32 [==============================] - 3s 87ms/step - loss: 0.7800 - accuracy: 0.7302 - val_loss: 0.7038 - val_accuracy: 0.7621\nEpoch 4/20\n32/32 [==============================] - 3s 82ms/step - loss: 0.5521 - accuracy: 0.7930 - val_loss: 0.4418 - val_accuracy: 0.8301\nEpoch 5/20\n32/32 [==============================] - 3s 84ms/step - loss: 0.4326 - accuracy: 0.8484 - val_loss: 0.6837 - val_accuracy: 0.8447\nEpoch 6/20\n32/32 [==============================] - 3s 80ms/step - loss: 0.3514 - accuracy: 0.8730 - val_loss: 0.4094 - val_accuracy: 0.8981\nEpoch 7/20\n32/32 [==============================] - 3s 83ms/step - loss: 0.3062 - accuracy: 0.8868 - val_loss: 0.8510 - val_accuracy: 0.8592\nEpoch 8/20\n32/32 [==============================] - 3s 80ms/step - loss: 0.2998 - accuracy: 0.8930 - val_loss: 0.9488 - val_accuracy: 0.8835\nEpoch 9/20\n32/32 [==============================] - 3s 79ms/step - loss: 0.2240 - accuracy: 0.9296 - val_loss: 0.1874 - val_accuracy: 0.8738\nEpoch 10/20\n32/32 [==============================] - 3s 81ms/step - loss: 0.2107 - accuracy: 0.9220 - val_loss: 0.2775 - val_accuracy: 0.8932\nEpoch 11/20\n32/32 [==============================] - 3s 83ms/step - loss: 0.2061 - accuracy: 0.9335 - val_loss: 0.3465 - val_accuracy: 0.8883\nEpoch 12/20\n32/32 [==============================] - 3s 84ms/step - loss: 0.1731 - accuracy: 0.9435 - val_loss: 0.8730 - val_accuracy: 0.8981\nEpoch 13/20\n32/32 [==============================] - 3s 80ms/step - loss: 0.1464 - accuracy: 0.9547 - val_loss: 0.5849 - val_accuracy: 0.9126\nEpoch 14/20\n32/32 [==============================] - 3s 82ms/step - loss: 0.1180 - accuracy: 0.9550 - val_loss: 0.9870 - val_accuracy: 0.8981\nEpoch 15/20\n32/32 [==============================] - 3s 83ms/step - loss: 0.1141 - accuracy: 0.9633 - val_loss: 0.2290 - val_accuracy: 0.9078\nEpoch 16/20\n32/32 [==============================] - 3s 82ms/step - loss: 0.0781 - accuracy: 0.9772 - val_loss: 0.1883 - val_accuracy: 0.9029\nEpoch 17/20\n32/32 [==============================] - 3s 79ms/step - loss: 0.0937 - accuracy: 0.9673 - val_loss: 0.0350 - val_accuracy: 0.9515\nEpoch 18/20\n32/32 [==============================] - 3s 82ms/step - loss: 0.0905 - accuracy: 0.9683 - val_loss: 0.3758 - val_accuracy: 0.9078\nEpoch 19/20\n32/32 [==============================] - 3s 80ms/step - loss: 0.0860 - accuracy: 0.9752 - val_loss: 0.3907 - val_accuracy: 0.9029\nEpoch 20/20\n32/32 [==============================] - 3s 87ms/step - loss: 0.0799 - accuracy: 0.9690 - val_loss: 0.0147 - val_accuracy: 0.8932\n"
        },
        {
          "output_type": "execute_result",
          "data": {
            "text/plain": "<keras.callbacks.callbacks.History at 0x1469b9d10>"
          },
          "metadata": {},
          "execution_count": 14
        }
      ]
    },
    {
      "cell_type": "code",
      "metadata": {
        "id": "Qk-Wz3ImiD5_",
        "colab_type": "code",
        "colab": {}
      },
      "source": [
        "model.save(\"models/model_v1\")"
      ],
      "execution_count": 16,
      "outputs": []
    }
  ],
  "metadata": {
    "language_info": {
      "codemirror_mode": {
        "name": "ipython",
        "version": 3
      },
      "file_extension": ".py",
      "mimetype": "text/x-python",
      "name": "python",
      "nbconvert_exporter": "python",
      "pygments_lexer": "ipython3",
      "version": "3.7.7-final"
    },
    "orig_nbformat": 2,
    "kernelspec": {
      "name": "python37764bitenvvenv21425f22bd034e66ae5abf00536bdf3c",
      "display_name": "Python 3.7.7 64-bit ('env': venv)"
    },
    "colab": {
      "name": "modelTraining.ipynb",
      "provenance": [],
      "collapsed_sections": []
    }
  },
  "nbformat": 4,
  "nbformat_minor": 0
}