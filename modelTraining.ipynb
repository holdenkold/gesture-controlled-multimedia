{
 "cells": [
  {
   "cell_type": "code",
   "execution_count": 29,
   "metadata": {},
   "outputs": [],
   "source": [
    "import os\n",
    "import numpy\n",
    "import matplotlib.pyplot as pyplot\n",
    "from itertools import groupby \n",
    "import random\n",
    "import shutil\n",
    "%matplotlib inline"
   ]
  },
  {
   "cell_type": "code",
   "execution_count": 48,
   "metadata": {},
   "outputs": [
    {
     "output_type": "stream",
     "name": "stderr",
     "text": "Using TensorFlow backend.\n"
    }
   ],
   "source": [
    "import seaborn as sns\n",
    "import keras\n",
    "from keras.models import Sequential\n",
    "from keras.layers import Dense, Conv2D , MaxPool2D , Flatten , Dropout\n",
    "from keras.preprocessing.image import ImageDataGenerator\n",
    "from sklearn.model_selection import train_test_split\n",
    "from sklearn.metrics import classification_report,confusion_matrix"
   ]
  },
  {
   "cell_type": "code",
   "execution_count": 46,
   "metadata": {},
   "outputs": [],
   "source": [
    "def structureData(source_data, train_perc):\n",
    "    images = []\n",
    "\n",
    "    for (dirpath, dirnames, filenames) in os.walk(source_data):\n",
    "        images.extend(filenames)\n",
    "\n",
    "    data_path = './data'\n",
    "    if not os.path.exists(data_path):\n",
    "        os.makedirs(data_path)\n",
    "\n",
    "    util_func = lambda x: x[0] \n",
    "    temp = sorted(images, key = util_func) \n",
    "    res = [list(ele) for i, ele in groupby(temp, util_func)]\n",
    "\n",
    "    train_path = os.path.join(data_path, 'train')\n",
    "    os.makedirs(train_path)\n",
    "    test_path = os.path.join(data_path, 'test')\n",
    "    os.makedirs(test_path)\n",
    "\n",
    "    for i in range(len(res)):\n",
    "        perc = 0.7\n",
    "        z_0 = res[i]\n",
    "        train_len = int(len(z_0) * 0.7)\n",
    "        random.shuffle(z_0)\n",
    "        train_p = z_0[:train_len]\n",
    "        test_p = z_0[train_len:]\n",
    "        tr_path = os.path.join(train_path, str(i))\n",
    "        os.makedirs(tr_path)\n",
    "        te_path = os.path.join(test_path, str(i))\n",
    "        os.makedirs(te_path)\n",
    "        for name in train_p:\n",
    "            shutil.copy(os.path.join(source_data, name), tr_path)\n",
    "        for name in test_p:\n",
    "            shutil.copy(os.path.join(source_data, name), te_path)"
   ]
  },
  {
   "cell_type": "code",
   "execution_count": 47,
   "metadata": {},
   "outputs": [],
   "source": [
    "structureData('./dataset', 0.7)"
   ]
  },
  {
   "cell_type": "code",
   "execution_count": 50,
   "metadata": {},
   "outputs": [],
   "source": [
    "datagen = ImageDataGenerator(\n",
    "        rescale=1./255,\n",
    "        zoom_range=0.2,\n",
    "        rotation_range=10,\n",
    "        horizontal_flip=True,\n",
    "        vertical_flip=False)\n"
   ]
  },
  {
   "cell_type": "code",
   "execution_count": 52,
   "metadata": {},
   "outputs": [
    {
     "output_type": "stream",
     "name": "stdout",
     "text": "Found 236 images belonging to 7 classes.\n"
    }
   ],
   "source": [
    "train_generator = datagen.flow_from_directory(\n",
    "    'data/train',\n",
    "    target_size=(256, 256),\n",
    "    color_mode = 'grayscale',\n",
    "    batch_size=32,\n",
    "    class_mode='categorical')"
   ]
  },
  {
   "cell_type": "code",
   "execution_count": 53,
   "metadata": {},
   "outputs": [
    {
     "output_type": "stream",
     "name": "stdout",
     "text": "Found 105 images belonging to 7 classes.\n"
    }
   ],
   "source": [
    "test_generator = datagen.flow_from_directory(\n",
    "    'data/test',\n",
    "    target_size=(256, 256),\n",
    "    color_mode = 'grayscale',\n",
    "    batch_size=32,\n",
    "    class_mode='categorical')"
   ]
  },
  {
   "cell_type": "code",
   "execution_count": null,
   "metadata": {},
   "outputs": [],
   "source": []
  }
 ],
 "metadata": {
  "language_info": {
   "codemirror_mode": {
    "name": "ipython",
    "version": 3
   },
   "file_extension": ".py",
   "mimetype": "text/x-python",
   "name": "python",
   "nbconvert_exporter": "python",
   "pygments_lexer": "ipython3",
   "version": "3.6.9-final"
  },
  "orig_nbformat": 2,
  "kernelspec": {
   "name": "python36964bitf0b52da5d29441f7966b16d4ec44a625",
   "display_name": "Python 3.6.9 64-bit"
  }
 },
 "nbformat": 4,
 "nbformat_minor": 2
}